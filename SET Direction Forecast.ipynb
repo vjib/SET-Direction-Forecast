{
 "cells": [
  {
   "cell_type": "code",
   "execution_count": 16,
   "metadata": {},
   "outputs": [],
   "source": [
    "import pandas as pd\n",
    "import numpy as np\n",
    "import math\n",
    "\n",
    "import matplotlib.pyplot as plt\n",
    "\n",
    "from sklearn.model_selection import train_test_split\n",
    "\n",
    "from sklearn import tree\n",
    "from sklearn.ensemble import RandomForestClassifier\n",
    "from sklearn.ensemble import GradientBoostingClassifier\n",
    "from xgboost import XGBClassifier"
   ]
  },
  {
   "cell_type": "code",
   "execution_count": 2,
   "metadata": {},
   "outputs": [
    {
     "data": {
      "text/html": [
       "<div>\n",
       "<style scoped>\n",
       "    .dataframe tbody tr th:only-of-type {\n",
       "        vertical-align: middle;\n",
       "    }\n",
       "\n",
       "    .dataframe tbody tr th {\n",
       "        vertical-align: top;\n",
       "    }\n",
       "\n",
       "    .dataframe thead th {\n",
       "        text-align: right;\n",
       "    }\n",
       "</style>\n",
       "<table border=\"1\" class=\"dataframe\">\n",
       "  <thead>\n",
       "    <tr style=\"text-align: right;\">\n",
       "      <th></th>\n",
       "      <th>Date</th>\n",
       "      <th>Close</th>\n",
       "    </tr>\n",
       "  </thead>\n",
       "  <tbody>\n",
       "    <tr>\n",
       "      <th>4890</th>\n",
       "      <td>2016-12-26</td>\n",
       "      <td>1515.23</td>\n",
       "    </tr>\n",
       "    <tr>\n",
       "      <th>1298</th>\n",
       "      <td>2002-04-17</td>\n",
       "      <td>390.73</td>\n",
       "    </tr>\n",
       "    <tr>\n",
       "      <th>560</th>\n",
       "      <td>1999-04-16</td>\n",
       "      <td>402.54</td>\n",
       "    </tr>\n",
       "    <tr>\n",
       "      <th>336</th>\n",
       "      <td>1998-05-20</td>\n",
       "      <td>355.51</td>\n",
       "    </tr>\n",
       "    <tr>\n",
       "      <th>1737</th>\n",
       "      <td>2004-01-29</td>\n",
       "      <td>714.04</td>\n",
       "    </tr>\n",
       "    <tr>\n",
       "      <th>1689</th>\n",
       "      <td>2003-11-18</td>\n",
       "      <td>636.75</td>\n",
       "    </tr>\n",
       "    <tr>\n",
       "      <th>3951</th>\n",
       "      <td>2013-02-18</td>\n",
       "      <td>1523.29</td>\n",
       "    </tr>\n",
       "    <tr>\n",
       "      <th>3137</th>\n",
       "      <td>2009-10-19</td>\n",
       "      <td>731.61</td>\n",
       "    </tr>\n",
       "    <tr>\n",
       "      <th>925</th>\n",
       "      <td>2000-10-06</td>\n",
       "      <td>267.68</td>\n",
       "    </tr>\n",
       "    <tr>\n",
       "      <th>11</th>\n",
       "      <td>1997-01-17</td>\n",
       "      <td>832.55</td>\n",
       "    </tr>\n",
       "  </tbody>\n",
       "</table>\n",
       "</div>"
      ],
      "text/plain": [
       "            Date    Close\n",
       "4890  2016-12-26  1515.23\n",
       "1298  2002-04-17   390.73\n",
       "560   1999-04-16   402.54\n",
       "336   1998-05-20   355.51\n",
       "1737  2004-01-29   714.04\n",
       "1689  2003-11-18   636.75\n",
       "3951  2013-02-18  1523.29\n",
       "3137  2009-10-19   731.61\n",
       "925   2000-10-06   267.68\n",
       "11    1997-01-17   832.55"
      ]
     },
     "execution_count": 2,
     "metadata": {},
     "output_type": "execute_result"
    }
   ],
   "source": [
    "df_set=pd.read_csv('SET_Data.csv')\n",
    "\n",
    "df_set.sample(10)"
   ]
  },
  {
   "cell_type": "code",
   "execution_count": 3,
   "metadata": {},
   "outputs": [
    {
     "data": {
      "text/html": [
       "<div>\n",
       "<style scoped>\n",
       "    .dataframe tbody tr th:only-of-type {\n",
       "        vertical-align: middle;\n",
       "    }\n",
       "\n",
       "    .dataframe tbody tr th {\n",
       "        vertical-align: top;\n",
       "    }\n",
       "\n",
       "    .dataframe thead th {\n",
       "        text-align: right;\n",
       "    }\n",
       "</style>\n",
       "<table border=\"1\" class=\"dataframe\">\n",
       "  <thead>\n",
       "    <tr style=\"text-align: right;\">\n",
       "      <th></th>\n",
       "      <th>Close</th>\n",
       "    </tr>\n",
       "  </thead>\n",
       "  <tbody>\n",
       "    <tr>\n",
       "      <th>count</th>\n",
       "      <td>5650.000000</td>\n",
       "    </tr>\n",
       "    <tr>\n",
       "      <th>mean</th>\n",
       "      <td>908.426027</td>\n",
       "    </tr>\n",
       "    <tr>\n",
       "      <th>std</th>\n",
       "      <td>479.556088</td>\n",
       "    </tr>\n",
       "    <tr>\n",
       "      <th>min</th>\n",
       "      <td>207.310000</td>\n",
       "    </tr>\n",
       "    <tr>\n",
       "      <th>25%</th>\n",
       "      <td>474.507500</td>\n",
       "    </tr>\n",
       "    <tr>\n",
       "      <th>50%</th>\n",
       "      <td>738.160000</td>\n",
       "    </tr>\n",
       "    <tr>\n",
       "      <th>75%</th>\n",
       "      <td>1408.732500</td>\n",
       "    </tr>\n",
       "    <tr>\n",
       "      <th>max</th>\n",
       "      <td>1838.960000</td>\n",
       "    </tr>\n",
       "  </tbody>\n",
       "</table>\n",
       "</div>"
      ],
      "text/plain": [
       "             Close\n",
       "count  5650.000000\n",
       "mean    908.426027\n",
       "std     479.556088\n",
       "min     207.310000\n",
       "25%     474.507500\n",
       "50%     738.160000\n",
       "75%    1408.732500\n",
       "max    1838.960000"
      ]
     },
     "execution_count": 3,
     "metadata": {},
     "output_type": "execute_result"
    }
   ],
   "source": [
    "df_set.describe()"
   ]
  },
  {
   "cell_type": "code",
   "execution_count": 4,
   "metadata": {},
   "outputs": [
    {
     "data": {
      "image/png": "[encoded data removed]",
      "text/plain": [
       "<Figure size 432x288 with 1 Axes>"
      ]
     },
     "metadata": {
      "needs_background": "light"
     },
     "output_type": "display_data"
    }
   ],
   "source": [
    "ax = plt.gca()\n",
    "\n",
    "df_set.plot(kind='line',x='Date',y='Close',ax=ax)\n",
    "\n",
    "plt.show()"
   ]
  },
  {
   "cell_type": "code",
   "execution_count": 5,
   "metadata": {},
   "outputs": [],
   "source": [
    "close_price=df_set['Close'].values\n",
    "percent_change=df_set['Close'].pct_change().dropna()"
   ]
  },
  {
   "cell_type": "code",
   "execution_count": 6,
   "metadata": {},
   "outputs": [
    {
     "data": {
      "text/plain": [
       "[<matplotlib.lines.Line2D at 0x269b2058828>]"
      ]
     },
     "execution_count": 6,
     "metadata": {},
     "output_type": "execute_result"
    },
    {
     "data": {
      "image/png": "[encoded data removed]",
      "text/plain": [
       "<Figure size 432x288 with 1 Axes>"
      ]
     },
     "metadata": {
      "needs_background": "light"
     },
     "output_type": "display_data"
    }
   ],
   "source": [
    "plt.plot(percent_change)"
   ]
  },
  {
   "cell_type": "code",
   "execution_count": 7,
   "metadata": {},
   "outputs": [],
   "source": [
    "return_array=percent_change.values"
   ]
  },
  {
   "cell_type": "code",
   "execution_count": 8,
   "metadata": {},
   "outputs": [],
   "source": [
    "data_output=[]\n",
    "data_input=[]\n",
    "\n",
    "input_size=5"
   ]
  },
  {
   "cell_type": "code",
   "execution_count": 9,
   "metadata": {},
   "outputs": [],
   "source": [
    "def setState(ret,input_size):\n",
    "    state_up=min(0.05,0.002*input_size)\n",
    "    state_down=max(-0.05,-0.002*input_size)\n",
    "    \n",
    "    state=0\n",
    "        \n",
    "    if ret>state_up:\n",
    "        state=1\n",
    "    elif ret<state_down:\n",
    "        state=-1\n",
    "        \n",
    "    return state"
   ]
  },
  {
   "cell_type": "code",
   "execution_count": 10,
   "metadata": {},
   "outputs": [],
   "source": [
    "for k in range(len(return_array)-2*input_size+1):\n",
    "    \n",
    "    temp_input=[]\n",
    "    \n",
    "    for pivot in range(input_size):\n",
    "        ret=return_array[k+pivot]\n",
    "\n",
    "        temp_input.append(ret)\n",
    "\n",
    "    data_input.append(temp_input)\n",
    "        \n",
    "    close_t=close_price[k+2*pivot+2]\n",
    "    close_t_1=close_price[k+pivot+1]\n",
    "    \n",
    "    ret=close_t/close_t_1-1\n",
    "\n",
    "    data_output.append(setState(ret,input_size))"
   ]
  },
  {
   "cell_type": "code",
   "execution_count": 11,
   "metadata": {},
   "outputs": [],
   "source": [
    "inputs_train,inputs_test, outputs_train,outputs_test = train_test_split(np.array(data_input), np.array(data_output), test_size=0.2)"
   ]
  },
  {
   "cell_type": "code",
   "execution_count": 12,
   "metadata": {},
   "outputs": [
    {
     "name": "stdout",
     "output_type": "stream",
     "text": [
      "Decision Tree: Training accuracy = 1.0\n",
      "Decision Tree: Testing accuracy = 0.375886524822695\n",
      "Random Forest: Training accuracy = 1.0\n",
      "Random Forest: Testing accuracy = 0.37854609929078015\n",
      "Gradient Boosting: Training accuracy = 1.0\n",
      "Gradient Boosting: Testing accuracy = 0.3546099290780142\n",
      "XGB: Training accuracy = 0.9997783687943262\n",
      "XGB: Testing accuracy = 0.3608156028368794\n"
     ]
    }
   ],
   "source": [
    "model = tree.DecisionTreeClassifier()\n",
    "model.fit(inputs_train,outputs_train)\n",
    "print(\"Decision Tree: Training accuracy = \"+str(model.score(inputs_train,outputs_train)))\n",
    "print(\"Decision Tree: Testing accuracy = \"+str(model.score(inputs_test,outputs_test)))\n",
    "\n",
    "model = RandomForestClassifier(n_estimators=5000)\n",
    "model.fit(inputs_train,outputs_train)\n",
    "print(\"Random Forest: Training accuracy = \"+str(model.score(inputs_train,outputs_train)))\n",
    "print(\"Random Forest: Testing accuracy = \"+str(model.score(inputs_test,outputs_test)))\n",
    "\n",
    "model = GradientBoostingClassifier(n_estimators=5000)\n",
    "model.fit(inputs_train,outputs_train)\n",
    "print(\"Gradient Boosting: Training accuracy = \"+str(model.score(inputs_train,outputs_train)))\n",
    "print(\"Gradient Boosting: Testing accuracy = \"+str(model.score(inputs_test,outputs_test)))\n",
    "\n",
    "model = XGBClassifier(n_estimators=5000)\n",
    "model.fit(inputs_train,outputs_train)\n",
    "print(\"XGB: Training accuracy = \"+str(model.score(inputs_train,outputs_train)))\n",
    "print(\"XGB: Testing accuracy = \"+str(model.score(inputs_test,outputs_test)))"
   ]
  },
  {
   "cell_type": "code",
   "execution_count": 13,
   "metadata": {},
   "outputs": [
    {
     "name": "stdout",
     "output_type": "stream",
     "text": [
      "Predict all sideway = 0.30407801418439717\n",
      "Predict all uptrend = 0.34929078014184395\n",
      "Predict all downtrend = 0.3466312056737589\n"
     ]
    }
   ],
   "source": [
    "print(\"Predict all sideway = \"+str(list(outputs_test).count(0)/len(outputs_test)))\n",
    "print(\"Predict all uptrend = \"+str(list(outputs_test).count(1)/len(outputs_test)))\n",
    "print(\"Predict all downtrend = \"+str(list(outputs_test).count(-1)/len(outputs_test)))"
   ]
  },
  {
   "cell_type": "code",
   "execution_count": null,
   "metadata": {},
   "outputs": [],
   "source": []
  }
 ],
 "metadata": {
  "kernelspec": {
   "display_name": "Python 3",
   "language": "python",
   "name": "python3"
  },
  "language_info": {
   "codemirror_mode": {
    "name": "ipython",
    "version": 3
   },
   "file_extension": ".py",
   "mimetype": "text/x-python",
   "name": "python",
   "nbconvert_exporter": "python",
   "pygments_lexer": "ipython3",
   "version": "3.7.1"
  }
 },
 "nbformat": 4,
 "nbformat_minor": 2
}
